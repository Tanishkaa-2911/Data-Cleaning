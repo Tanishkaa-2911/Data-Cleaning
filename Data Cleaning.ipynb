{
 "cells": [
  {
   "cell_type": "code",
   "execution_count": 2,
   "id": "cb5cb65f-2811-463d-9598-2627bd541d68",
   "metadata": {},
   "outputs": [],
   "source": [
    "#Importing All Libraries\n",
    "import pandas as pd\n",
    "import seaborn as sns\n",
    "import matplotlib.pyplot as plt"
   ]
  },
  {
   "cell_type": "code",
   "execution_count": 3,
   "id": "6330ebf8-dca7-4b60-be35-d7ec3a86418d",
   "metadata": {},
   "outputs": [],
   "source": [
    "#Reading Dataset\n",
    "df=pd.read_csv('raw_messy_dataset.csv')"
   ]
  },
  {
   "cell_type": "code",
   "execution_count": 4,
   "id": "aef30366-6b0c-428e-9d3f-fcf85a1ac7bb",
   "metadata": {},
   "outputs": [
    {
     "name": "stdout",
     "output_type": "stream",
     "text": [
      "<class 'pandas.core.frame.DataFrame'>\n",
      "RangeIndex: 105 entries, 0 to 104\n",
      "Data columns (total 7 columns):\n",
      " #   Column      Non-Null Count  Dtype \n",
      "---  ------      --------------  ----- \n",
      " 0   Name        105 non-null    object\n",
      " 1   Age         72 non-null     object\n",
      " 2   Gender      89 non-null     object\n",
      " 3   Email       95 non-null     object\n",
      " 4   Join_Date   70 non-null     object\n",
      " 5   Salary      78 non-null     object\n",
      " 6   Department  89 non-null     object\n",
      "dtypes: object(7)\n",
      "memory usage: 5.9+ KB\n"
     ]
    }
   ],
   "source": [
    "#Checking Info\n",
    "df.info()"
   ]
  },
  {
   "cell_type": "code",
   "execution_count": 5,
   "id": "dc684c6e-7a24-4479-8130-55a8f44ea1d2",
   "metadata": {},
   "outputs": [
    {
     "data": {
      "text/html": [
       "<div>\n",
       "<style scoped>\n",
       "    .dataframe tbody tr th:only-of-type {\n",
       "        vertical-align: middle;\n",
       "    }\n",
       "\n",
       "    .dataframe tbody tr th {\n",
       "        vertical-align: top;\n",
       "    }\n",
       "\n",
       "    .dataframe thead th {\n",
       "        text-align: right;\n",
       "    }\n",
       "</style>\n",
       "<table border=\"1\" class=\"dataframe\">\n",
       "  <thead>\n",
       "    <tr style=\"text-align: right;\">\n",
       "      <th></th>\n",
       "      <th>Name</th>\n",
       "      <th>Age</th>\n",
       "      <th>Gender</th>\n",
       "      <th>Email</th>\n",
       "      <th>Join_Date</th>\n",
       "      <th>Salary</th>\n",
       "      <th>Department</th>\n",
       "    </tr>\n",
       "  </thead>\n",
       "  <tbody>\n",
       "    <tr>\n",
       "      <th>count</th>\n",
       "      <td>105</td>\n",
       "      <td>72</td>\n",
       "      <td>89</td>\n",
       "      <td>95</td>\n",
       "      <td>70</td>\n",
       "      <td>78</td>\n",
       "      <td>89</td>\n",
       "    </tr>\n",
       "    <tr>\n",
       "      <th>unique</th>\n",
       "      <td>10</td>\n",
       "      <td>5</td>\n",
       "      <td>5</td>\n",
       "      <td>90</td>\n",
       "      <td>4</td>\n",
       "      <td>5</td>\n",
       "      <td>5</td>\n",
       "    </tr>\n",
       "    <tr>\n",
       "      <th>top</th>\n",
       "      <td>Alice</td>\n",
       "      <td>40</td>\n",
       "      <td>Male</td>\n",
       "      <td>user0@example.com</td>\n",
       "      <td>2021-05-21</td>\n",
       "      <td>50000</td>\n",
       "      <td>Engineering</td>\n",
       "    </tr>\n",
       "    <tr>\n",
       "      <th>freq</th>\n",
       "      <td>11</td>\n",
       "      <td>22</td>\n",
       "      <td>22</td>\n",
       "      <td>2</td>\n",
       "      <td>26</td>\n",
       "      <td>22</td>\n",
       "      <td>26</td>\n",
       "    </tr>\n",
       "  </tbody>\n",
       "</table>\n",
       "</div>"
      ],
      "text/plain": [
       "         Name Age Gender              Email   Join_Date Salary   Department\n",
       "count     105  72     89                 95          70     78           89\n",
       "unique     10   5      5                 90           4      5            5\n",
       "top     Alice  40   Male  user0@example.com  2021-05-21  50000  Engineering\n",
       "freq       11  22     22                  2          26     22           26"
      ]
     },
     "execution_count": 5,
     "metadata": {},
     "output_type": "execute_result"
    }
   ],
   "source": [
    "#Describing data\n",
    "df.describe()"
   ]
  },
  {
   "cell_type": "code",
   "execution_count": 7,
   "id": "c749e35b-f905-4b63-a8a5-ad98d5a62ac4",
   "metadata": {},
   "outputs": [
    {
     "data": {
      "text/plain": [
       "np.int64(5)"
      ]
     },
     "execution_count": 7,
     "metadata": {},
     "output_type": "execute_result"
    }
   ],
   "source": [
    "#Finding Duplicates\n",
    "df.duplicated().sum()"
   ]
  },
  {
   "cell_type": "code",
   "execution_count": 8,
   "id": "26aaa3fa-19cb-4f88-bc28-93190e45817f",
   "metadata": {},
   "outputs": [],
   "source": [
    "#Removing Duplicates\n",
    "df.drop_duplicates(inplace=True)"
   ]
  },
  {
   "cell_type": "code",
   "execution_count": 9,
   "id": "2f43534f-5488-4a4f-8f40-f0bf770cfcd6",
   "metadata": {},
   "outputs": [
    {
     "name": "stdout",
     "output_type": "stream",
     "text": [
      "<class 'pandas.core.frame.DataFrame'>\n",
      "Index: 100 entries, 0 to 99\n",
      "Data columns (total 7 columns):\n",
      " #   Column      Non-Null Count  Dtype \n",
      "---  ------      --------------  ----- \n",
      " 0   Name        100 non-null    object\n",
      " 1   Age         69 non-null     object\n",
      " 2   Gender      86 non-null     object\n",
      " 3   Email       90 non-null     object\n",
      " 4   Join_Date   66 non-null     object\n",
      " 5   Salary      74 non-null     object\n",
      " 6   Department  84 non-null     object\n",
      "dtypes: object(7)\n",
      "memory usage: 6.2+ KB\n"
     ]
    }
   ],
   "source": [
    "df.info()"
   ]
  },
  {
   "cell_type": "code",
   "execution_count": null,
   "id": "f8e302d6-9bbc-4dde-8b9a-5bcefbd20fb3",
   "metadata": {},
   "outputs": [],
   "source": [
    "print(df)"
   ]
  },
  {
   "cell_type": "code",
   "execution_count": 11,
   "id": "1da4381b-7d31-46ff-9eee-9debb5d8a9b5",
   "metadata": {},
   "outputs": [],
   "source": [
    "#Handling Age\n",
    "df['Age']=pd.to_numeric(df['Age'],errors='coerce')"
   ]
  },
  {
   "cell_type": "code",
   "execution_count": 12,
   "id": "eed2fd2e-afd4-4bab-a3d1-0a2b88c9e587",
   "metadata": {},
   "outputs": [
    {
     "name": "stdout",
     "output_type": "stream",
     "text": [
      "33.94736842105263\n"
     ]
    }
   ],
   "source": [
    "#finding Mean of age\n",
    "mean=df['Age'].mean()\n",
    "print(mean)"
   ]
  },
  {
   "cell_type": "code",
   "execution_count": 14,
   "id": "fb2c974f-d328-49bd-8919-9ee3c5ac80f4",
   "metadata": {},
   "outputs": [
    {
     "name": "stdout",
     "output_type": "stream",
     "text": [
      "       Name        Age  Gender               Email     Join_Date   Salary   Department\n",
      "0     Alice  33.947368     NaN   user0@example.com    2021-05-21      NaN        Admin\n",
      "1       Bob  40.000000       M   user1@example.com           NaN    50000  Engineering\n",
      "2   Charlie  33.947368    Male   user2@example.com    2020/01/01    50000           HR\n",
      "3     David  33.947368     NaN   user3@example.com    2021-05-21    70000        Admin\n",
      "4       Eva  35.000000   Other   user4@example.com  July 4, 2020    70000  Engineering\n",
      "5     Frank  33.947368   Other   user5@example.com           NaN    70000        Admin\n",
      "6     Grace  33.947368  Female   user6@example.com  July 4, 2020    80000  Engineering\n",
      "7    Hannah  33.947368   Other   user7@example.com    2021-05-21      NaN           HR\n",
      "8       Ivy  30.000000  Female   user8@example.com           NaN    50000  Engineering\n",
      "9      Jack  35.000000    Male   user9@example.com    2020/01/01    80000  Engineering\n",
      "10    Alice  33.947368       M  user10@example.com    2021-05-21    70000  Engineering\n",
      "11      Bob  35.000000       M  user11@example.com  July 4, 2020    50000        Sales\n",
      "12  Charlie  35.000000       M  user12@example.com    22-06-2022    80000        Sales\n",
      "13    David  33.947368   Other  user13@example.com           NaN      NaN        Sales\n",
      "14      Eva  40.000000    Male  user14@example.com  July 4, 2020    80000           HR\n",
      "15    Frank  35.000000   Other  user15@example.com           NaN      NaN        Admin\n",
      "16    Grace  33.947368   Other  user16@example.com    2021-05-21    70000          NaN\n",
      "17   Hannah  33.947368    Male  user17@example.com           NaN      NaN  Engineering\n",
      "18      Ivy  30.000000    Male  user18@example.com    2021-05-21    50000  Engineering\n",
      "19     Jack  40.000000    Male  user19@example.com           NaN    70000           HR\n",
      "20    Alice  33.947368    Male  user20@example.com    2021-05-21    50000  Engineering\n",
      "21      Bob  33.947368       M  user21@example.com    22-06-2022  unknown        Sales\n",
      "22  Charlie  30.000000       F  user22@example.com           NaN    60000          NaN\n",
      "23    David  40.000000       F  user23@example.com           NaN      NaN    Marketing\n",
      "24      Eva  33.947368    Male  user24@example.com           NaN    60000  Engineering\n",
      "25    Frank  25.000000       F  user25@example.com    22-06-2022    60000        Sales\n",
      "26    Grace  40.000000       F  user26@example.com  July 4, 2020      NaN    Marketing\n",
      "27   Hannah  30.000000    Male  user27@example.com    2021-05-21    70000          NaN\n",
      "28      Ivy  33.947368       F  user28@example.com    2020/01/01  unknown    Marketing\n",
      "29     Jack  33.947368   Other  user29@example.com    2021-05-21    50000        Sales\n",
      "30    Alice  40.000000  Female  user30@example.com    2021-05-21    80000        Admin\n",
      "31      Bob  25.000000  Female  user31@example.com  July 4, 2020    50000        Admin\n",
      "32  Charlie  25.000000    Male  user32@example.com    2021-05-21    80000    Marketing\n",
      "33    David  35.000000       M  user33@example.com    22-06-2022    50000           HR\n",
      "34      Eva  35.000000    Male  user34@example.com    22-06-2022      NaN    Marketing\n",
      "35    Frank  33.947368       M  user35@example.com           NaN  unknown  Engineering\n",
      "36    Grace  30.000000  Female  user36@example.com           NaN    80000  Engineering\n",
      "37   Hannah  40.000000    Male  user37@example.com    2020/01/01      NaN        Admin\n",
      "38      Ivy  40.000000     NaN  user38@example.com    2021-05-21    70000           HR\n",
      "39     Jack  33.947368   Other  user39@example.com    2021-05-21    50000        Sales\n",
      "40    Alice  33.947368       F  user40@example.com  July 4, 2020    50000  Engineering\n",
      "41      Bob  33.947368       M  user41@example.com           NaN    80000        Admin\n",
      "42  Charlie  33.947368     NaN  user42@example.com    22-06-2022    70000          NaN\n",
      "43    David  33.947368       F  user43@example.com    2020/01/01    70000        Admin\n",
      "44      Eva  35.000000       F  user44@example.com           NaN      NaN  Engineering\n",
      "45    Frank  40.000000    Male  user45@example.com    22-06-2022      NaN  Engineering\n",
      "46    Grace  33.947368       F  user46@example.com           NaN      NaN        Admin\n",
      "47   Hannah  40.000000   Other  user47@example.com           NaN      NaN        Sales\n",
      "48      Ivy  25.000000     NaN  user48@example.com  July 4, 2020      NaN    Marketing\n",
      "49     Jack  35.000000       F  user49@example.com  July 4, 2020      NaN  Engineering\n",
      "50    Alice  33.947368    Male  user50@example.com    2021-05-21      NaN        Admin\n",
      "51      Bob  35.000000   Other  user51@example.com           NaN  unknown        Admin\n",
      "52  Charlie  33.947368  Female  user52@example.com    2020/01/01    70000           HR\n",
      "53    David  33.947368     NaN  user53@example.com           NaN      NaN    Marketing\n",
      "54      Eva  25.000000       F  user54@example.com    22-06-2022    70000          NaN\n",
      "55    Frank  33.947368    Male  user55@example.com           NaN    70000        Sales\n",
      "56    Grace  30.000000  Female  user56@example.com           NaN    60000          NaN\n",
      "57   Hannah  40.000000  Female  user57@example.com  July 4, 2020  unknown    Marketing\n",
      "58      Ivy  25.000000       M  user58@example.com    2021-05-21      NaN    Marketing\n",
      "59     Jack  40.000000   Other  user59@example.com    2021-05-21    50000    Marketing\n",
      "60    Alice  33.947368       F  user60@example.com           NaN    80000          NaN\n",
      "61      Bob  30.000000    Male  user61@example.com  July 4, 2020      NaN    Marketing\n",
      "62  Charlie  30.000000       M  user62@example.com           NaN    50000        Admin\n",
      "63    David  25.000000   Other  user63@example.com    2020/01/01  unknown          NaN\n",
      "64      Eva  30.000000       M  user64@example.com  July 4, 2020    80000    Marketing\n",
      "65    Frank  33.947368     NaN  user65@example.com           NaN  unknown        Admin\n",
      "66    Grace  30.000000   Other  user66@example.com           NaN    70000           HR\n",
      "67   Hannah  40.000000   Other  user67@example.com  July 4, 2020    80000    Marketing\n",
      "68      Ivy  40.000000       F  user68@example.com           NaN    70000          NaN\n",
      "69     Jack  33.947368   Other  user69@example.com  July 4, 2020    50000  Engineering\n",
      "70    Alice  40.000000       M  user70@example.com    22-06-2022    50000    Marketing\n",
      "71      Bob  33.947368   Other  user71@example.com  July 4, 2020    80000  Engineering\n",
      "72  Charlie  40.000000       F  user72@example.com  July 4, 2020    80000        Admin\n",
      "73    David  33.947368       F  user73@example.com           NaN      NaN           HR\n",
      "74      Eva  33.947368     NaN  user74@example.com           NaN  unknown        Sales\n",
      "75    Frank  35.000000       M  user75@example.com    2021-05-21      NaN           HR\n",
      "76    Grace  33.947368  Female  user76@example.com    2021-05-21  unknown    Marketing\n",
      "77   Hannah  25.000000  Female  user77@example.com    22-06-2022      NaN  Engineering\n",
      "78      Ivy  40.000000   Other  user78@example.com    2021-05-21    70000  Engineering\n",
      "79     Jack  30.000000     NaN  user79@example.com  July 4, 2020    80000          NaN\n",
      "80    Alice  40.000000    Male  user80@example.com           NaN    50000  Engineering\n",
      "81      Bob  30.000000   Other  user81@example.com    2021-05-21  unknown          NaN\n",
      "82  Charlie  33.947368     NaN  user82@example.com    2021-05-21  unknown        Admin\n",
      "83    David  33.947368       M  user83@example.com    22-06-2022    50000        Sales\n",
      "84      Eva  33.947368       M  user84@example.com           NaN      NaN    Marketing\n",
      "85    Frank  30.000000       M  user85@example.com    22-06-2022  unknown          NaN\n",
      "86    Grace  40.000000       M  user86@example.com  July 4, 2020      NaN        Sales\n",
      "87   Hannah  33.947368       M  user87@example.com           NaN    70000  Engineering\n",
      "88      Ivy  33.947368     NaN  user88@example.com    22-06-2022    80000  Engineering\n",
      "89     Jack  33.947368     NaN  user89@example.com    2021-05-21    50000        Sales\n",
      "90    Alice  30.000000       F                 NaN           NaN    80000  Engineering\n",
      "91      Bob  30.000000  Female                 NaN           NaN      NaN        Admin\n",
      "92  Charlie  40.000000       M                 NaN    2021-05-21  unknown        Admin\n",
      "93    David  30.000000    Male                 NaN    22-06-2022  unknown        Sales\n",
      "94      Eva  30.000000     NaN                 NaN    2021-05-21      NaN          NaN\n",
      "95    Frank  33.947368    Male                 NaN           NaN    50000          NaN\n",
      "96    Grace  40.000000    Male                 NaN           NaN    70000        Sales\n",
      "97   Hannah  33.947368    Male                 NaN    2020/01/01    60000          NaN\n",
      "98      Ivy  33.947368       F                 NaN    2020/01/01    50000          NaN\n",
      "99     Jack  33.947368     NaN                 NaN  July 4, 2020    60000        Admin\n"
     ]
    },
    {
     "name": "stderr",
     "output_type": "stream",
     "text": [
      "C:\\Users\\jyoti\\AppData\\Local\\Temp\\ipykernel_16728\\2809614828.py:1: FutureWarning: A value is trying to be set on a copy of a DataFrame or Series through chained assignment using an inplace method.\n",
      "The behavior will change in pandas 3.0. This inplace method will never work because the intermediate object on which we are setting values always behaves as a copy.\n",
      "\n",
      "For example, when doing 'df[col].method(value, inplace=True)', try using 'df.method({col: value}, inplace=True)' or df[col] = df[col].method(value) instead, to perform the operation inplace on the original object.\n",
      "\n",
      "\n",
      "  df['Age'].fillna(mean,inplace=True)\n"
     ]
    }
   ],
   "source": [
    "df['Age'].fillna(mean,inplace=True)\n",
    "print(df.to_string())"
   ]
  },
  {
   "cell_type": "code",
   "execution_count": 16,
   "id": "6f5a248f-06af-4f11-aa8e-9e81a485b928",
   "metadata": {},
   "outputs": [],
   "source": [
    "#handling Gender Column\n",
    "df.replace(['Male'],'M',inplace=True)"
   ]
  },
  {
   "cell_type": "code",
   "execution_count": 20,
   "id": "c2869aad-aa15-4db7-ab7a-7ae8976035d6",
   "metadata": {},
   "outputs": [],
   "source": [
    "#Convert Date into correct format\n",
    "df['Join_Date']=pd.to_datetime(df['Join_Date'],format='mixed',errors='coerce')"
   ]
  },
  {
   "cell_type": "code",
   "execution_count": null,
   "id": "d9b9ecf6-53a9-448c-98f8-43fe980ae361",
   "metadata": {},
   "outputs": [],
   "source": [
    "print(df.to_string())"
   ]
  },
  {
   "cell_type": "code",
   "execution_count": null,
   "id": "d95fe563-f4cd-4cc3-a585-1b0b89ec97a2",
   "metadata": {},
   "outputs": [],
   "source": [
    "df['Join_Date'].fillna(pd.to_datetime('today'),inplace=True)\n",
    "print(df)"
   ]
  },
  {
   "cell_type": "code",
   "execution_count": null,
   "id": "8ab6331d-9999-4117-af25-b05cffff2f30",
   "metadata": {},
   "outputs": [],
   "source": [
    "print(df.to_string())"
   ]
  },
  {
   "cell_type": "code",
   "execution_count": null,
   "id": "ae209a85-5adb-42ca-b5a5-de1f5b4b356a",
   "metadata": {
    "scrolled": true
   },
   "outputs": [],
   "source": [
    "df['Gender'].replace(['Female'],'F',inplace=True)"
   ]
  },
  {
   "cell_type": "code",
   "execution_count": null,
   "id": "5c6c4bf9-d1fb-4c0f-8b77-3c552323d004",
   "metadata": {},
   "outputs": [],
   "source": [
    "print(df.to_string())"
   ]
  },
  {
   "cell_type": "code",
   "execution_count": null,
   "id": "4cd859d7-b08f-4813-963e-942239da2946",
   "metadata": {},
   "outputs": [],
   "source": [
    "mode_dept=df['Department'].mode()[0]\n",
    "print(mode_dept)"
   ]
  },
  {
   "cell_type": "code",
   "execution_count": null,
   "id": "95a0ee28-1578-4c2d-9fb8-a8f17b7ca95e",
   "metadata": {},
   "outputs": [],
   "source": [
    "df['Department'].fillna(mode_dept,inplace=True)"
   ]
  },
  {
   "cell_type": "code",
   "execution_count": null,
   "id": "f69e77dc-e4fc-44fd-a293-712f11ebfe47",
   "metadata": {},
   "outputs": [],
   "source": [
    "print(df.to_string())"
   ]
  },
  {
   "cell_type": "code",
   "execution_count": 19,
   "id": "aa409dd7-e0d9-4b75-b34d-8b41766710c3",
   "metadata": {},
   "outputs": [],
   "source": [
    "#Filling Missing values in Email Column\n",
    "df['Email'].fillna('-',inplace=True)"
   ]
  },
  {
   "cell_type": "code",
   "execution_count": null,
   "id": "dc4c3e81-d39f-4002-98b1-be2c2c3d0740",
   "metadata": {},
   "outputs": [],
   "source": [
    "print(df.to_string())"
   ]
  },
  {
   "cell_type": "code",
   "execution_count": 21,
   "id": "b399cf26-a9c3-4b77-93f9-e9c4c3c4ee4b",
   "metadata": {},
   "outputs": [
    {
     "name": "stderr",
     "output_type": "stream",
     "text": [
      "C:\\Users\\jyoti\\AppData\\Local\\Temp\\ipykernel_16728\\3238914337.py:2: FutureWarning: A value is trying to be set on a copy of a DataFrame or Series through chained assignment using an inplace method.\n",
      "The behavior will change in pandas 3.0. This inplace method will never work because the intermediate object on which we are setting values always behaves as a copy.\n",
      "\n",
      "For example, when doing 'df[col].method(value, inplace=True)', try using 'df.method({col: value}, inplace=True)' or df[col] = df[col].method(value) instead, to perform the operation inplace on the original object.\n",
      "\n",
      "\n",
      "  df['Salary'].fillna(0,inplace=True)\n"
     ]
    }
   ],
   "source": [
    "#Handling none values in salary columns by filling with 0\n",
    "df['Salary'].fillna(0,inplace=True)"
   ]
  },
  {
   "cell_type": "code",
   "execution_count": 22,
   "id": "b24ba4e3-29ba-4333-a2ac-64c9b40218a8",
   "metadata": {},
   "outputs": [
    {
     "name": "stdout",
     "output_type": "stream",
     "text": [
      "       Name        Age  Gender               Email  Join_Date   Salary   Department\n",
      "0     Alice  33.947368     NaN   user0@example.com 2021-05-21        0        Admin\n",
      "1       Bob  40.000000       M   user1@example.com        NaT    50000  Engineering\n",
      "2   Charlie  33.947368       M   user2@example.com 2020-01-01    50000           HR\n",
      "3     David  33.947368     NaN   user3@example.com 2021-05-21    70000        Admin\n",
      "4       Eva  35.000000   Other   user4@example.com 2020-07-04    70000  Engineering\n",
      "5     Frank  33.947368   Other   user5@example.com        NaT    70000        Admin\n",
      "6     Grace  33.947368  Female   user6@example.com 2020-07-04    80000  Engineering\n",
      "7    Hannah  33.947368   Other   user7@example.com 2021-05-21        0           HR\n",
      "8       Ivy  30.000000  Female   user8@example.com        NaT    50000  Engineering\n",
      "9      Jack  35.000000       M   user9@example.com 2020-01-01    80000  Engineering\n",
      "10    Alice  33.947368       M  user10@example.com 2021-05-21    70000  Engineering\n",
      "11      Bob  35.000000       M  user11@example.com 2020-07-04    50000        Sales\n",
      "12  Charlie  35.000000       M  user12@example.com 2022-06-22    80000        Sales\n",
      "13    David  33.947368   Other  user13@example.com        NaT        0        Sales\n",
      "14      Eva  40.000000       M  user14@example.com 2020-07-04    80000           HR\n",
      "15    Frank  35.000000   Other  user15@example.com        NaT        0        Admin\n",
      "16    Grace  33.947368   Other  user16@example.com 2021-05-21    70000          NaN\n",
      "17   Hannah  33.947368       M  user17@example.com        NaT        0  Engineering\n",
      "18      Ivy  30.000000       M  user18@example.com 2021-05-21    50000  Engineering\n",
      "19     Jack  40.000000       M  user19@example.com        NaT    70000           HR\n",
      "20    Alice  33.947368       M  user20@example.com 2021-05-21    50000  Engineering\n",
      "21      Bob  33.947368       M  user21@example.com 2022-06-22  unknown        Sales\n",
      "22  Charlie  30.000000       F  user22@example.com        NaT    60000          NaN\n",
      "23    David  40.000000       F  user23@example.com        NaT        0    Marketing\n",
      "24      Eva  33.947368       M  user24@example.com        NaT    60000  Engineering\n",
      "25    Frank  25.000000       F  user25@example.com 2022-06-22    60000        Sales\n",
      "26    Grace  40.000000       F  user26@example.com 2020-07-04        0    Marketing\n",
      "27   Hannah  30.000000       M  user27@example.com 2021-05-21    70000          NaN\n",
      "28      Ivy  33.947368       F  user28@example.com 2020-01-01  unknown    Marketing\n",
      "29     Jack  33.947368   Other  user29@example.com 2021-05-21    50000        Sales\n",
      "30    Alice  40.000000  Female  user30@example.com 2021-05-21    80000        Admin\n",
      "31      Bob  25.000000  Female  user31@example.com 2020-07-04    50000        Admin\n",
      "32  Charlie  25.000000       M  user32@example.com 2021-05-21    80000    Marketing\n",
      "33    David  35.000000       M  user33@example.com 2022-06-22    50000           HR\n",
      "34      Eva  35.000000       M  user34@example.com 2022-06-22        0    Marketing\n",
      "35    Frank  33.947368       M  user35@example.com        NaT  unknown  Engineering\n",
      "36    Grace  30.000000  Female  user36@example.com        NaT    80000  Engineering\n",
      "37   Hannah  40.000000       M  user37@example.com 2020-01-01        0        Admin\n",
      "38      Ivy  40.000000     NaN  user38@example.com 2021-05-21    70000           HR\n",
      "39     Jack  33.947368   Other  user39@example.com 2021-05-21    50000        Sales\n",
      "40    Alice  33.947368       F  user40@example.com 2020-07-04    50000  Engineering\n",
      "41      Bob  33.947368       M  user41@example.com        NaT    80000        Admin\n",
      "42  Charlie  33.947368     NaN  user42@example.com 2022-06-22    70000          NaN\n",
      "43    David  33.947368       F  user43@example.com 2020-01-01    70000        Admin\n",
      "44      Eva  35.000000       F  user44@example.com        NaT        0  Engineering\n",
      "45    Frank  40.000000       M  user45@example.com 2022-06-22        0  Engineering\n",
      "46    Grace  33.947368       F  user46@example.com        NaT        0        Admin\n",
      "47   Hannah  40.000000   Other  user47@example.com        NaT        0        Sales\n",
      "48      Ivy  25.000000     NaN  user48@example.com 2020-07-04        0    Marketing\n",
      "49     Jack  35.000000       F  user49@example.com 2020-07-04        0  Engineering\n",
      "50    Alice  33.947368       M  user50@example.com 2021-05-21        0        Admin\n",
      "51      Bob  35.000000   Other  user51@example.com        NaT  unknown        Admin\n",
      "52  Charlie  33.947368  Female  user52@example.com 2020-01-01    70000           HR\n",
      "53    David  33.947368     NaN  user53@example.com        NaT        0    Marketing\n",
      "54      Eva  25.000000       F  user54@example.com 2022-06-22    70000          NaN\n",
      "55    Frank  33.947368       M  user55@example.com        NaT    70000        Sales\n",
      "56    Grace  30.000000  Female  user56@example.com        NaT    60000          NaN\n",
      "57   Hannah  40.000000  Female  user57@example.com 2020-07-04  unknown    Marketing\n",
      "58      Ivy  25.000000       M  user58@example.com 2021-05-21        0    Marketing\n",
      "59     Jack  40.000000   Other  user59@example.com 2021-05-21    50000    Marketing\n",
      "60    Alice  33.947368       F  user60@example.com        NaT    80000          NaN\n",
      "61      Bob  30.000000       M  user61@example.com 2020-07-04        0    Marketing\n",
      "62  Charlie  30.000000       M  user62@example.com        NaT    50000        Admin\n",
      "63    David  25.000000   Other  user63@example.com 2020-01-01  unknown          NaN\n",
      "64      Eva  30.000000       M  user64@example.com 2020-07-04    80000    Marketing\n",
      "65    Frank  33.947368     NaN  user65@example.com        NaT  unknown        Admin\n",
      "66    Grace  30.000000   Other  user66@example.com        NaT    70000           HR\n",
      "67   Hannah  40.000000   Other  user67@example.com 2020-07-04    80000    Marketing\n",
      "68      Ivy  40.000000       F  user68@example.com        NaT    70000          NaN\n",
      "69     Jack  33.947368   Other  user69@example.com 2020-07-04    50000  Engineering\n",
      "70    Alice  40.000000       M  user70@example.com 2022-06-22    50000    Marketing\n",
      "71      Bob  33.947368   Other  user71@example.com 2020-07-04    80000  Engineering\n",
      "72  Charlie  40.000000       F  user72@example.com 2020-07-04    80000        Admin\n",
      "73    David  33.947368       F  user73@example.com        NaT        0           HR\n",
      "74      Eva  33.947368     NaN  user74@example.com        NaT  unknown        Sales\n",
      "75    Frank  35.000000       M  user75@example.com 2021-05-21        0           HR\n",
      "76    Grace  33.947368  Female  user76@example.com 2021-05-21  unknown    Marketing\n",
      "77   Hannah  25.000000  Female  user77@example.com 2022-06-22        0  Engineering\n",
      "78      Ivy  40.000000   Other  user78@example.com 2021-05-21    70000  Engineering\n",
      "79     Jack  30.000000     NaN  user79@example.com 2020-07-04    80000          NaN\n",
      "80    Alice  40.000000       M  user80@example.com        NaT    50000  Engineering\n",
      "81      Bob  30.000000   Other  user81@example.com 2021-05-21  unknown          NaN\n",
      "82  Charlie  33.947368     NaN  user82@example.com 2021-05-21  unknown        Admin\n",
      "83    David  33.947368       M  user83@example.com 2022-06-22    50000        Sales\n",
      "84      Eva  33.947368       M  user84@example.com        NaT        0    Marketing\n",
      "85    Frank  30.000000       M  user85@example.com 2022-06-22  unknown          NaN\n",
      "86    Grace  40.000000       M  user86@example.com 2020-07-04        0        Sales\n",
      "87   Hannah  33.947368       M  user87@example.com        NaT    70000  Engineering\n",
      "88      Ivy  33.947368     NaN  user88@example.com 2022-06-22    80000  Engineering\n",
      "89     Jack  33.947368     NaN  user89@example.com 2021-05-21    50000        Sales\n",
      "90    Alice  30.000000       F                   -        NaT    80000  Engineering\n",
      "91      Bob  30.000000  Female                   -        NaT        0        Admin\n",
      "92  Charlie  40.000000       M                   - 2021-05-21  unknown        Admin\n",
      "93    David  30.000000       M                   - 2022-06-22  unknown        Sales\n",
      "94      Eva  30.000000     NaN                   - 2021-05-21        0          NaN\n",
      "95    Frank  33.947368       M                   -        NaT    50000          NaN\n",
      "96    Grace  40.000000       M                   -        NaT    70000        Sales\n",
      "97   Hannah  33.947368       M                   - 2020-01-01    60000          NaN\n",
      "98      Ivy  33.947368       F                   - 2020-01-01    50000          NaN\n",
      "99     Jack  33.947368     NaN                   - 2020-07-04    60000        Admin\n"
     ]
    }
   ],
   "source": [
    "print(df.to_string())"
   ]
  },
  {
   "cell_type": "code",
   "execution_count": 23,
   "id": "aedd64f6-f47e-4fba-ba87-550c4252d927",
   "metadata": {},
   "outputs": [],
   "source": [
    "df.to_csv('Cleaned data')"
   ]
  },
  {
   "cell_type": "code",
   "execution_count": null,
   "id": "25e75d6a-eec1-4740-99a3-7de00e1f87ff",
   "metadata": {},
   "outputs": [],
   "source": []
  }
 ],
 "metadata": {
  "kernelspec": {
   "display_name": "Python 3 (ipykernel)",
   "language": "python",
   "name": "python3"
  },
  "language_info": {
   "codemirror_mode": {
    "name": "ipython",
    "version": 3
   },
   "file_extension": ".py",
   "mimetype": "text/x-python",
   "name": "python",
   "nbconvert_exporter": "python",
   "pygments_lexer": "ipython3",
   "version": "3.13.3"
  }
 },
 "nbformat": 4,
 "nbformat_minor": 5
}
